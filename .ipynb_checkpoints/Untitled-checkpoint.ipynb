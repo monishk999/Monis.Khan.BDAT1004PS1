{
 "cells": [
  {
   "cell_type": "markdown",
   "id": "7e9f3dee",
   "metadata": {},
   "source": [
    "# Question-1\n",
    "What data type is each of the following (evaluate where necessary)? \n"
   ]
  },
  {
   "cell_type": "code",
   "execution_count": 2,
   "id": "8f5bca0e",
   "metadata": {},
   "outputs": [
    {
     "data": {
      "text/plain": [
       "False"
      ]
     },
     "execution_count": 2,
     "metadata": {},
     "output_type": "execute_result"
    }
   ],
   "source": [
    "5\n",
    "5.0  \n",
    "5 > 1  \n",
    "'5'  \n",
    "5 * 2  \n",
    "'5' * 2  \n",
    "'5' + '2'  \n",
    "5 / 2  \n",
    "5 % 2  \n",
    "{5, 2, 1}  \n",
    "5 == 3  \n",
    "#Pi (the number) "
   ]
  },
  {
   "cell_type": "code",
   "execution_count": null,
   "id": "052c1d29",
   "metadata": {},
   "outputs": [],
   "source": []
  }
 ],
 "metadata": {
  "kernelspec": {
   "display_name": "Python 3 (ipykernel)",
   "language": "python",
   "name": "python3"
  },
  "language_info": {
   "codemirror_mode": {
    "name": "ipython",
    "version": 3
   },
   "file_extension": ".py",
   "mimetype": "text/x-python",
   "name": "python",
   "nbconvert_exporter": "python",
   "pygments_lexer": "ipython3",
   "version": "3.10.9"
  }
 },
 "nbformat": 4,
 "nbformat_minor": 5
}
