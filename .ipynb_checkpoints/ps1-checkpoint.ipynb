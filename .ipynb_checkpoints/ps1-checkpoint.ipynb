{
 "cells": [
  {
   "cell_type": "markdown",
   "id": "177d518f",
   "metadata": {},
   "source": [
    "# Question-1\n",
    "What data type is each of the following (evaluate where necessary)? \n"
   ]
  },
  {
   "cell_type": "code",
   "execution_count": 2,
   "id": "96ba1aa5",
   "metadata": {},
   "outputs": [
    {
     "data": {
      "text/plain": [
       "False"
      ]
     },
     "execution_count": 2,
     "metadata": {},
     "output_type": "execute_result"
    }
   ],
   "source": [
    "5  # Integer\n",
    "5.0  # Float\n",
    "5 > 1  #Boolean\n",
    "'5'  #String\n",
    "5 * 2  #integer"
   ]
  },
  {
   "cell_type": "code",
   "execution_count": 3,
   "id": "f36fde9a",
   "metadata": {},
   "outputs": [
    {
     "data": {
      "text/plain": [
       "'55'"
      ]
     },
     "execution_count": 3,
     "metadata": {},
     "output_type": "execute_result"
    }
   ],
   "source": [
    "'5' * 2  # String"
   ]
  },
  {
   "cell_type": "code",
   "execution_count": 4,
   "id": "77d39a17",
   "metadata": {},
   "outputs": [
    {
     "data": {
      "text/plain": [
       "'52'"
      ]
     },
     "execution_count": 4,
     "metadata": {},
     "output_type": "execute_result"
    }
   ],
   "source": [
    "'5' + '2'  # String"
   ]
  },
  {
   "cell_type": "code",
   "execution_count": null,
   "id": "c620f7c2",
   "metadata": {},
   "outputs": [],
   "source": [
    "5 / 2  #Integer \n",
    "5 % 2  #Integer\n",
    "{5, 2, 1} # Set\n",
    "5 == 3  # Boolean\n",
    "Pi (the number) # Float"
   ]
  },
  {
   "cell_type": "markdown",
   "id": "a7216365",
   "metadata": {},
   "source": [
    "# Question-2\n",
    "Write (and evaluate) python expressions that answer these questions:\n",
    "\n",
    "a. How many letters are there in 'Supercalifragilisticexpialidocious'? \n",
    "\n",
    "b. Does 'Supercalifragilisticexpialidocious' contain 'ice' as a substring?\n",
    "\n",
    "c. Which of the following words is the longest: Supercalifragilisticexpialidocious, Honorificabilitudinitatibus,  or Bababadalgharaghtakamminarronnkonn?  \n",
    "\n",
    "d. Which composer comes first in the dictionary: 'Berlioz', 'Borodin', 'Brian', 'Bartok', 'Bellini', 'Buxtehude', 'Bernstein'. Which one comes last?"
   ]
  },
  {
   "cell_type": "code",
   "execution_count": 11,
   "id": "cc041be6",
   "metadata": {},
   "outputs": [
    {
     "name": "stdout",
     "output_type": "stream",
     "text": [
      "34\n"
     ]
    }
   ],
   "source": [
    "#a How many letters are there in 'Supercalifragilisticexpialidocious'?\n",
    "\n",
    "a= 'Supercalifragilisticexpialidocious'\n",
    "print(len(a))"
   ]
  },
  {
   "cell_type": "code",
   "execution_count": 17,
   "id": "ac7c45f7",
   "metadata": {},
   "outputs": [
    {
     "name": "stdout",
     "output_type": "stream",
     "text": [
      "Is a Substring\n"
     ]
    }
   ],
   "source": [
    "# b. Does 'Supercalifragilisticexpialidocious' contain 'ice' as a substring?\n",
    "\n",
    "b= 'Supercalifragilisticexpialidocious'\n",
    "to_check= 'ice'\n",
    "\n",
    "if to_check in b:\n",
    "    print('Is a Substring')\n",
    "\n",
    "else:\n",
    "    print('Not a Substring')"
   ]
  },
  {
   "cell_type": "code",
   "execution_count": 23,
   "id": "edd910dc",
   "metadata": {},
   "outputs": [
    {
     "name": "stdout",
     "output_type": "stream",
     "text": [
      "Longest String is Supercalifragilisticexpialidocious\n"
     ]
    }
   ],
   "source": [
    "# c. Which of the following words is the longest: Supercalifragilisticexpialidocious, Honorificabilitudinitatibus, \n",
    "#    or Bababadalgharaghtakamminarronnkonn?\n",
    "\n",
    "a='Supercalifragilisticexpialidocious'\n",
    "b='Honorificabilitudinitatibus'\n",
    "c='Honorificabilitudinitatibus'\n",
    "\n",
    "if len(a)> len(b):\n",
    "    if len(a) >len(c):\n",
    "        print('Longest String is',a)\n",
    "\n",
    "elif len(b)> len(c):\n",
    "    if len(b)>len(a):\n",
    "        print('Longest String is',b)\n",
    "\n",
    "else:\n",
    "    print('Longest String is',c)"
   ]
  },
  {
   "cell_type": "code",
   "execution_count": 35,
   "id": "e1903d3c",
   "metadata": {},
   "outputs": [
    {
     "name": "stdout",
     "output_type": "stream",
     "text": [
      "Original Dictionary Items-  ['Berlioz', 'Borodin', 'Brian', 'Bartok', 'Bellini', 'Buxtehude', 'Bernstein']\n",
      "Sorted Dictionary Items-  ['Bartok', 'Bellini', 'Berlioz', 'Bernstein', 'Borodin', 'Brian', 'Buxtehude']\n",
      "Bartok  is first in the dictionary\n",
      "Buxtehude  is last in the dictionary\n"
     ]
    }
   ],
   "source": [
    "# d. Which composer comes first in the \n",
    "#    dictionary: 'Berlioz', 'Borodin', 'Brian', 'Bartok', 'Bellini', 'Buxtehude', 'Bernstein'. \n",
    "#    Which one comes last?\n",
    "\n",
    "composer_dict= ['Berlioz', 'Borodin', 'Brian', 'Bartok', 'Bellini', 'Buxtehude', 'Bernstein']\n",
    "sorted_composer_dict= sorted(composer_dict)\n",
    "print('Original Dictionary Items- ',composer_dict)\n",
    "print('Sorted Dictionary Items- ',sorted_composer_dict)\n",
    "print(sorted_composer_dict[0],' is first in the dictionary')\n",
    "print(sorted_composer_dict[len(sorted_composer_dict)-1],' is last in the dictionary')"
   ]
  },
  {
   "cell_type": "markdown",
   "id": "454b2f88",
   "metadata": {},
   "source": [
    "# Question-3\n",
    "Implement function triangleArea(a,b,c) that takes as input the lengths of the 3 sides of a triangle and returns the area of the triangle. By Heron's formula, the area of a triangle with side lengths a, b, and c is   s(s-a)(s-b)(s-c), where   s=(a+b+c)/2. "
   ]
  },
  {
   "cell_type": "code",
   "execution_count": 67,
   "id": "f05096db",
   "metadata": {},
   "outputs": [
    {
     "name": "stdout",
     "output_type": "stream",
     "text": [
      "Enter the lenght of edges of a triangle\n",
      "2\n",
      "2\n",
      "2\n",
      "Area of the Triangle with edges 2 , 2 , 2 is 1.7320508075688772\n"
     ]
    }
   ],
   "source": [
    "import math\n",
    "def triangleArea(s1,s2,s3):\n",
    "     avg = (s1 + s2 + s3) / 2\n",
    "     ar = math.sqrt(avg * (avg - s1) * (avg - s2) * (avg - s3))\n",
    "     return ar\n",
    "\n",
    "print('Enter the lenght of edges of a triangle')\n",
    "s1=int(input())\n",
    "s2=int(input())\n",
    "s3=int(input())\n",
    "\n",
    "#triangle_area = triangleArea(s1,s2,s3)\n",
    "#print(triangle_area)\n",
    "\n",
    "print(f'Area of the Triangle with edges {s1} , {s2} , {s3} is {triangleArea(s1,s2,s3)}') "
   ]
  },
  {
   "cell_type": "markdown",
   "id": "e79b305a",
   "metadata": {},
   "source": [
    "# Question-4\n",
    "\n",
    "Write a program in python to separate odd and even integers in separate arrays. Go to the editor\n",
    "\n",
    "Test Data : \n",
    "\n",
    "Input the number of elements to be stored in the array :5 \n",
    "\n",
    "Input 5 elements in the array : \n",
    "\n",
    "element - 0 : 25 \n",
    "\n",
    "element - 1 : 47 \n",
    "\n",
    "element - 2 : 42 \n",
    "\n",
    "element - 3 : 56 \n",
    "\n",
    "element - 4 : 32 \n",
    "\n",
    "Expected Output: \n",
    "\n",
    "The Even elements are: \n",
    "\n",
    "42 56 32 \n",
    "\n",
    "The Odd elements are : \n",
    "\n",
    "25 47"
   ]
  },
  {
   "cell_type": "code",
   "execution_count": 12,
   "id": "3ef72aec",
   "metadata": {},
   "outputs": [
    {
     "name": "stdout",
     "output_type": "stream",
     "text": [
      "Input the number of elements to be stored in the array :5\n",
      "Input 5 elements in the array\n",
      "1\n",
      "2\n",
      "3\n",
      "4\n",
      "5\n",
      "[1, 2, 3, 4, 5]\n",
      "the Even elements are:  [2, 4]\n",
      "The odd elements are:  [1, 3, 5]\n"
     ]
    }
   ],
   "source": [
    "num= int(input('Input the number of elements to be stored in the array :'))\n",
    "print(f'Input {num} elements in the array')\n",
    "arr=[]\n",
    "even=[]\n",
    "odd=[]\n",
    "for i in range(0,num,1):\n",
    "    k=int(input())\n",
    "    arr.append(k)\n",
    "print(arr)\n",
    "\n",
    "for j in range(0,num,1):\n",
    "    if int(arr[j])%2==0:\n",
    "        even.append(arr[j])\n",
    "    else:\n",
    "        odd.append(arr[j])\n",
    "\n",
    "print('the Even elements are: ',even)\n",
    "print('The odd elements are: ',odd)"
   ]
  },
  {
   "cell_type": "markdown",
   "id": "16f16a85",
   "metadata": {},
   "source": [
    "# Question- 5  \n",
    "\n",
    "a. Write a function inside(x,y,x1,y1,x2,y2) that returns True or False depending on whether the point (x,y) lies in the rectangle with lower left corner (x1,y1) and upper right corner (x2,y2).  >>> inside(1,1,0,0,2,3) True >>> inside(-1,-1,0,0,2,3) False  \n",
    "\n",
    "b. Use function inside() from part a. to write an expression that tests whether the point (1,1) lies in both of the following rectangles: one with lower left corner (0.3, 0.5) and upper right corner (1.1, 0.7) and the other with lower left corner (0.5, 0.2) and upper right corner (1.1, 2). "
   ]
  },
  {
   "cell_type": "code",
   "execution_count": 15,
   "id": "f45578a1",
   "metadata": {},
   "outputs": [
    {
     "name": "stdout",
     "output_type": "stream",
     "text": [
      "(1,1) point does not lie in the lower left corner (0.3, 0.5) and upper right corner (1.1, 0.7)\n",
      "(1,1) point lie in the lower left corner (0.5, 0.2) and upper right corner (1.1, 2)\n"
     ]
    }
   ],
   "source": [
    "def inside(x,y,x1,y1,x2,y2):\n",
    "    if x >= x1 and x <= x2:\n",
    "        if y > y1 and y < y2:\n",
    "            return True\n",
    "    else:\n",
    "        return False\n",
    "    \n",
    "x=1\n",
    "y=1\n",
    "if inside(x,y,0.3,0.5,1.1,0.7) == True:\n",
    "    print(f'({x},{y}) point lie in the lower left corner (0.3, 0.5) and upper right corner (1.1, 0.7)')\n",
    "else:\n",
    "    print(f'({x},{y}) point does not lie in the lower left corner (0.3, 0.5) and upper right corner (1.1, 0.7)')\n",
    "\n",
    "if inside(x,y,0.5,0.2,1.1,2) == True:\n",
    "    print(f'({x},{y}) point lie in the lower left corner (0.5, 0.2) and upper right corner (1.1, 2)')\n",
    "else:\n",
    "    print(f'({x},{y}) point does not lie in the lower left corner (0.5, 0.2) and upper right corner (1.1, 2)')"
   ]
  },
  {
   "cell_type": "markdown",
   "id": "8433be6f",
   "metadata": {},
   "source": [
    "# Question- 6\n",
    "\n",
    "16. You can turn a word into pig-Latin using the following two rules (simplified):\n",
    "• If the word starts with a consonant, move that letter to the end and append 'ay'. For example, 'happy' becomes 'appyhay' and 'pencil' becomes 'encilpay'.\n",
    "• If the word starts with a vowel, simply append 'way' to the end of the word. For example, 'enter' becomes 'enterway' and 'other' becomes 'otherway' . For our purposes, there are 5 vowels: a, e, i, o, u (so we count y as a consonant).\n",
    "Write a function pig() that takes a word (i.e., a string) as input and returns its pig-Latin form. Your function should still work if the input word contains upper case characters. Your output should always be lower case however.\n",
    ">>> pig('happy')\n",
    "'appyhay'\n",
    ">>> pig('Enter')\n",
    "'enterway'"
   ]
  },
  {
   "cell_type": "code",
   "execution_count": 32,
   "id": "a66d0b64",
   "metadata": {},
   "outputs": [
    {
     "name": "stdout",
     "output_type": "stream",
     "text": [
      "Enter a word to covert it into piglatin  Hello\n",
      "ellohay\n"
     ]
    }
   ],
   "source": [
    "def pig(wrd):\n",
    "    #if wrd[0]=='a' or wrd[0]=='e' or wrd[0]=='i' or wrd[0]=='o' or wrd[0]=='u' or \n",
    "    #wrd[0]=='A' or wrd[0]=='E' or wrd[0]=='I' or wrd[0]=='O' or wrd[0]=='U':\n",
    "    #    return(wrd+'way')\n",
    "    if wrd[0] in 'aeiouAEIOU':\n",
    "        return(wrd+'way')\n",
    "    \n",
    "    else:\n",
    "        return(wrd[1:]+wrd[0]+'ay')\n",
    "    \n",
    "wrd=input('Enter a word to covert it into piglatin  ')\n",
    "    \n",
    "print(pig(wrd).lower())"
   ]
  },
  {
   "cell_type": "markdown",
   "id": "ef9a5531",
   "metadata": {},
   "source": [
    "# Question- 7\n",
    "\n",
    "File bloodtype1.txt records blood-types of patients (A, B, AB, O or OO) at a clinic. Write a function bldcount() that reads the file with name name and reports (i.e., prints) how many patients there are in each bloodtype.\n",
    ">>> bldcount('bloodtype.txt')\n",
    "\n",
    "There are 10 patients of blood type A.\n",
    "\n",
    "There is one patient of blood type B.\n",
    "\n",
    "There are 10 patients of blood type AB.\n",
    "\n",
    "There are 12 patients of blood type O.\n",
    "\n",
    "There are no patients of blood type OO."
   ]
  },
  {
   "cell_type": "code",
   "execution_count": 71,
   "id": "4193bb30",
   "metadata": {},
   "outputs": [
    {
     "name": "stdout",
     "output_type": "stream",
     "text": [
      "There are 15 patients of blood type A\n",
      "There are 1 patients of blood type B\n",
      "There are 13 patients of blood type AB\n",
      "There are 15 patients of blood type O\n",
      "There are 0 patients of blood type OO\n"
     ]
    }
   ],
   "source": [
    "def bldcount():    \n",
    "    f=open(\"bloodtype1.txt\",'r')\n",
    "    s= f.readline()\n",
    "    arr= s.split(' ')\n",
    "\n",
    "    for i in ['A','B','AB','O','OO']:\n",
    "        c=0\n",
    "        for j in range(len(arr)):\n",
    "            if i== arr[j]:\n",
    "                c=c+1\n",
    "        \n",
    "        print(f'There are {c} patients of blood type {i}')\n",
    "    f.close()\n",
    "\n",
    "bldcount()"
   ]
  },
  {
   "cell_type": "markdown",
   "id": "3c0ca958",
   "metadata": {},
   "source": [
    "# Question- 8\n",
    "\n",
    "Write a function curconv() that takes as input:\n",
    "1. a currency represented using a string (e.g., 'JPY' for the Japanese Yen or 'EUR' for the Euro)\n",
    "2. an amount\n",
    "and then converts and returns the amount in US dollars."
   ]
  },
  {
   "cell_type": "code",
   "execution_count": 118,
   "id": "4c851d0a",
   "metadata": {},
   "outputs": [
    {
     "name": "stdout",
     "output_type": "stream",
     "text": [
      "103.45157\n"
     ]
    }
   ],
   "source": [
    "def curconv(cur,amt):\n",
    "    with open('currencies.txt','r') as infile:\n",
    "        for i in infile:\n",
    "            arr= i.split()\n",
    "            if arr[0] == cur:\n",
    "                return amt*float(arr[1])\n",
    "            else:\n",
    "                return 'NA'\n",
    "    \n",
    "print(curconv('AUD',100))"
   ]
  },
  {
   "cell_type": "markdown",
   "id": "1604cf57",
   "metadata": {},
   "source": [
    "# Question- 9\n",
    "Each of the following will cause an exception (an error). Identify what type of exception each will cause."
   ]
  },
  {
   "cell_type": "code",
   "execution_count": 119,
   "id": "3c899a15",
   "metadata": {},
   "outputs": [
    {
     "ename": "TypeError",
     "evalue": "unsupported operand type(s) for +: 'int' and 'str'",
     "output_type": "error",
     "traceback": [
      "\u001b[1;31m---------------------------------------------------------------------------\u001b[0m",
      "\u001b[1;31mTypeError\u001b[0m                                 Traceback (most recent call last)",
      "Cell \u001b[1;32mIn[119], line 3\u001b[0m\n\u001b[0;32m      1\u001b[0m \u001b[38;5;66;03m# a Trying to add incompatible variables, as in adding 6 + ‘a’\u001b[39;00m\n\u001b[1;32m----> 3\u001b[0m a\u001b[38;5;241m=\u001b[39m\u001b[38;5;241;43m6\u001b[39;49m\u001b[43m \u001b[49m\u001b[38;5;241;43m+\u001b[39;49m\u001b[38;5;124;43m'\u001b[39;49m\u001b[38;5;124;43ma\u001b[39;49m\u001b[38;5;124;43m'\u001b[39;49m\n\u001b[0;32m      4\u001b[0m \u001b[38;5;28mprint\u001b[39m(a)\n",
      "\u001b[1;31mTypeError\u001b[0m: unsupported operand type(s) for +: 'int' and 'str'"
     ]
    }
   ],
   "source": [
    "# a Trying to add incompatible variables, as in adding 6 + ‘a’\n",
    "\n",
    "a=6 +'a'\n",
    "print(a)\n",
    "\n",
    "## answer- inconsistent datatypes in the operation, both the variable or values should be of same datatype \n",
    "##         either integer or string"
   ]
  },
  {
   "cell_type": "code",
   "execution_count": 120,
   "id": "77e2b2c1",
   "metadata": {},
   "outputs": [],
   "source": [
    "# b Referring to the 12th item of a list that has only 10 items\n",
    "\n",
    "## answer- a list containing 10 element can obly be indexed from 0-9 positions, \n",
    "##         indexing 12th position require minimum of 13 elements"
   ]
  },
  {
   "cell_type": "code",
   "execution_count": 124,
   "id": "0a2fd296",
   "metadata": {},
   "outputs": [
    {
     "ename": "ValueError",
     "evalue": "math domain error",
     "output_type": "error",
     "traceback": [
      "\u001b[1;31m---------------------------------------------------------------------------\u001b[0m",
      "\u001b[1;31mValueError\u001b[0m                                Traceback (most recent call last)",
      "Cell \u001b[1;32mIn[124], line 3\u001b[0m\n\u001b[0;32m      1\u001b[0m \u001b[38;5;66;03m## c Using a value that is out of range for a function’s input, such as calling math.sqrt(-1.0)\u001b[39;00m\n\u001b[0;32m      2\u001b[0m \u001b[38;5;28;01mimport\u001b[39;00m \u001b[38;5;21;01mmath\u001b[39;00m\n\u001b[1;32m----> 3\u001b[0m \u001b[38;5;28mprint\u001b[39m(\u001b[43mmath\u001b[49m\u001b[38;5;241;43m.\u001b[39;49m\u001b[43msqrt\u001b[49m\u001b[43m(\u001b[49m\u001b[43m \u001b[49m\u001b[38;5;241;43m-\u001b[39;49m\u001b[38;5;241;43m1.0\u001b[39;49m\u001b[43m)\u001b[49m)\n",
      "\u001b[1;31mValueError\u001b[0m: math domain error"
     ]
    }
   ],
   "source": [
    "## c Using a value that is out of range for a function’s input, such as calling math.sqrt(-1.0)\n",
    "import math\n",
    "print(math.sqrt( -1.0))\n",
    "\n",
    "## answer function could not parse negative values causing the error"
   ]
  },
  {
   "cell_type": "code",
   "execution_count": 125,
   "id": "ae1ed667",
   "metadata": {},
   "outputs": [
    {
     "name": "stdout",
     "output_type": "stream",
     "text": [
      "2\n"
     ]
    }
   ],
   "source": [
    "# d Using an undeclared variable, such as\n",
    "print(x)\n",
    "#   when x has not been defined\n",
    "\n",
    "#answer missing variable will cause the error"
   ]
  },
  {
   "cell_type": "code",
   "execution_count": 126,
   "id": "3c3ce362",
   "metadata": {},
   "outputs": [],
   "source": [
    "# e Trying to open a file that does not exist, such as\n",
    "#   mistyping the file name or looking in the wrong\n",
    "#   directory.\n",
    "\n",
    "# answer missing file error will parse error for file not found"
   ]
  },
  {
   "cell_type": "markdown",
   "id": "1807da83",
   "metadata": {},
   "source": [
    "# Question 10\n",
    "\n",
    "Encryption is the process of hiding the meaning of a text by substituting letters in the message with other letters, according to some system. If the process is successful, no one but the intended recipient can understand the encrypted message. Cryptanalysis refers to attempts to undo the encryption, even if some details of the encryption are unknown (for example, if an encrypted message has been intercepted). The first step of cryptanalysis is often to build up a table of letter frequencies in the encrypted text. Assume that the string letters is already defined as 'abcdefghijklmnopqrstuvwxyz'. Write a function called frequencies() that takes a string as its only parameter, and returns a list of integers, showing the number of times each character appears in the text. Your function may ignore any characters that are not in letters.\n",
    ">>> frequencies('The quick red fox got bored and went home.')\n",
    "[1, 1, 1, 3, 5, 1, 1, 2, 1, 0, 1, 0, 1, 2, 4, 0, 1, 2, 0, 2, 1, 0, 1, 1, 0, 0]\n",
    ">>> frequencies('apple')"
   ]
  },
  {
   "cell_type": "code",
   "execution_count": 129,
   "id": "1ff0d48c",
   "metadata": {},
   "outputs": [
    {
     "name": "stdout",
     "output_type": "stream",
     "text": [
      "[1, 0, 0, 0, 1, 0, 0, 0, 0, 0, 0, 1, 0, 0, 0, 2, 0, 0, 0, 0, 0, 0, 0, 0, 0, 0]\n"
     ]
    }
   ],
   "source": [
    "def frequencies(text):\n",
    "    letters = 'abcdefghijklmnopqrstuvwxyz'\n",
    "    frequency_list = [0] * len(letters)\n",
    "\n",
    "    for char in text.lower():\n",
    "        if char in letters:\n",
    "            index = letters.index(char)\n",
    "            frequency_list[index] += 1\n",
    "\n",
    "    return frequency_list\n",
    "\n",
    "s = frequencies('apple')\n",
    "print(s) "
   ]
  },
  {
   "cell_type": "code",
   "execution_count": null,
   "id": "ddabfb8b",
   "metadata": {},
   "outputs": [],
   "source": []
  }
 ],
 "metadata": {
  "kernelspec": {
   "display_name": "Python 3 (ipykernel)",
   "language": "python",
   "name": "python3"
  },
  "language_info": {
   "codemirror_mode": {
    "name": "ipython",
    "version": 3
   },
   "file_extension": ".py",
   "mimetype": "text/x-python",
   "name": "python",
   "nbconvert_exporter": "python",
   "pygments_lexer": "ipython3",
   "version": "3.10.9"
  }
 },
 "nbformat": 4,
 "nbformat_minor": 5
}
